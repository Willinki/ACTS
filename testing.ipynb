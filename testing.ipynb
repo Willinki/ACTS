{
 "metadata": {
  "language_info": {
   "codemirror_mode": {
    "name": "ipython",
    "version": 3
   },
   "file_extension": ".py",
   "mimetype": "text/x-python",
   "name": "python",
   "nbconvert_exporter": "python",
   "pygments_lexer": "ipython3",
   "version": "3.7.6"
  },
  "orig_nbformat": 2,
  "kernelspec": {
   "name": "python376jvsc74a57bd0156fef2c04f35c016251a5225883e65358c08714d1ed5626ad19e934cada2aac",
   "display_name": "Python 3.7.6 64-bit ('base': conda)"
  },
  "metadata": {
   "interpreter": {
    "hash": "156fef2c04f35c016251a5225883e65358c08714d1ed5626ad19e934cada2aac"
   }
  }
 },
 "nbformat": 4,
 "nbformat_minor": 2,
 "cells": [
  {
   "cell_type": "code",
   "execution_count": 1,
   "metadata": {},
   "outputs": [],
   "source": [
    "from ACTS import ACTS\n",
    "import va_builder\n",
    "# import the dataset \n",
    "# X = instances\n",
    "# y = labels\n",
    "acts = ACTS()\n",
    "dm = va_builder.DataManager(\n",
    "    X = X,\n",
    "    y = np.array([np.nan])\n",
    ")\n",
    "al  = va_builder.ALManager(\n",
    "    data = dm,\n",
    "    query_strategy=partial(\n",
    "        acts, \n",
    "        n_instances = 10\n",
    "    )\n",
    ")\n",
    "query_idxs , _ = al.query()\n",
    "al.update(query_idxs, y[query_idxs])\n",
    "al.estimator.score()\n",
    "\n"
   ]
  }
 ]
}